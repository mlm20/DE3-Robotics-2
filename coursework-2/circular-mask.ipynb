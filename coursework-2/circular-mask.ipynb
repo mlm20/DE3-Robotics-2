{
 "cells": [
  {
   "cell_type": "code",
   "execution_count": 3,
   "metadata": {},
   "outputs": [],
   "source": [
    "# Import the numpy library as np\n",
    "import numpy as np\n",
    "\n",
    "# Define a function called apply_circular_mask that takes in an array and a radius\n",
    "def apply_circular_mask(array, radius):\n",
    "    # Create a meshgrid for the shape of the array\n",
    "    y, x = np.ogrid[:array.shape[0], :array.shape[1]]\n",
    "    \n",
    "    # Calculate the center x and y values for the array\n",
    "    center_x, center_y = np.array(array.shape[1::-1]) // 2\n",
    "    \n",
    "    # Create a binary mask indicating the area outside the circle of the given radius\n",
    "    mask = ((x - center_x) ** 2 + (y - center_y) ** 2 > radius ** 2).astype(int)\n",
    "    \n",
    "    # Set the values outside the circle in the input array to 0\n",
    "    array[mask == 1] = 0\n",
    "    \n",
    "    # Return the modified input array\n",
    "    return array\n"
   ]
  },
  {
   "cell_type": "code",
   "execution_count": 4,
   "metadata": {},
   "outputs": [],
   "source": [
    "# Create a sample square numpy array\n",
    "array = np.ones((100, 100))\n",
    "\n",
    "# Apply the circular mask with a radius of 50\n",
    "masked_array = apply_circular_mask(array, 50)\n"
   ]
  }
 ],
 "metadata": {
  "kernelspec": {
   "display_name": "Python 3",
   "language": "python",
   "name": "python3"
  },
  "language_info": {
   "codemirror_mode": {
    "name": "ipython",
    "version": 3
   },
   "file_extension": ".py",
   "mimetype": "text/x-python",
   "name": "python",
   "nbconvert_exporter": "python",
   "pygments_lexer": "ipython3",
   "version": "3.9.13 (tags/v3.9.13:6de2ca5, May 17 2022, 16:36:42) [MSC v.1929 64 bit (AMD64)]"
  },
  "orig_nbformat": 4,
  "vscode": {
   "interpreter": {
    "hash": "20dcf72490f89c174da2c842e68573857612f3c1b1722e617d46dde610562cef"
   }
  }
 },
 "nbformat": 4,
 "nbformat_minor": 2
}
